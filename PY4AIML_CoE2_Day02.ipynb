{
  "nbformat": 4,
  "nbformat_minor": 0,
  "metadata": {
    "colab": {
      "name": "PY4AIML_CoE2_Day02.ipynb",
      "provenance": [],
      "include_colab_link": true
    },
    "kernelspec": {
      "name": "python3",
      "display_name": "Python 3"
    }
  },
  "cells": [
    {
      "cell_type": "markdown",
      "metadata": {
        "id": "view-in-github",
        "colab_type": "text"
      },
      "source": [
        "<a href=\"https://colab.research.google.com/github/narenoffl/TalentSpring-TsCoE-Python-Training-for-ML-AI/blob/master/PY4AIML_CoE2_Day02.ipynb\" target=\"_parent\"><img src=\"https://colab.research.google.com/assets/colab-badge.svg\" alt=\"Open In Colab\"/></a>"
      ]
    },
    {
      "cell_type": "code",
      "metadata": {
        "id": "EHpecKzxIeAu",
        "colab_type": "code",
        "colab": {
          "base_uri": "https://localhost:8080/",
          "height": 235
        },
        "outputId": "08e82b74-7689-4b99-c8e9-88ac3c2ff983"
      },
      "source": [
        "name = \"Indira\"\n",
        "print(name[0])\n",
        "print(name[-1])\n",
        "myname = name + \" Talasila\"\n",
        "print(myname)\n",
        "marks = [10, 40, 30, 22, 16, \"Indira\", \"Talentsprint\"]\n",
        "print(len(marks))\n",
        "print(marks[-1][0])\n",
        "print(id(name))\n",
        "name = \"priyadarshini\"\n",
        "print(name)\n",
        "print(id(name))\n",
        "print(id(marks))\n",
        "marks[0] = \"Priyadarshini\"\n",
        "print(marks)\n",
        "print(id(marks))\n",
        "marks.append(33)\n",
        "marks.insert(3, 87)\n",
        "print(marks)"
      ],
      "execution_count": null,
      "outputs": [
        {
          "output_type": "stream",
          "text": [
            "I\n",
            "a\n",
            "Indira Talasila\n",
            "7\n",
            "T\n",
            "140420565689880\n",
            "priyadarshini\n",
            "140420555987760\n",
            "140420566156168\n",
            "['Priyadarshini', 40, 30, 22, 16, 'Indira', 'Talentsprint']\n",
            "140420566156168\n",
            "['Priyadarshini', 40, 30, 87, 22, 16, 'Indira', 'Talentsprint', 33]\n"
          ],
          "name": "stdout"
        }
      ]
    },
    {
      "cell_type": "code",
      "metadata": {
        "id": "R90cDzQVI-Pq",
        "colab_type": "code",
        "colab": {
          "base_uri": "https://localhost:8080/",
          "height": 165
        },
        "outputId": "d85dd54a-190b-4780-f47c-00eaaab794f5"
      },
      "source": [
        "#Slicing ':' is called as slicing operator\n",
        "str = \"Slicing the string\"\n",
        "print(str[4:8])\n",
        "print(str[:4])\n",
        "print(str[::-1])\n",
        "print(str * 2)\n",
        "\"i\" in str\n",
        "print(str)\n",
        "print(list(str))\n",
        "\n",
        "for ch in str:\n",
        "  print(ch, end = \" \")"
      ],
      "execution_count": null,
      "outputs": [
        {
          "output_type": "stream",
          "text": [
            "ing \n",
            "Slic\n",
            "gnirts eht gnicilS\n",
            "Slicing the stringSlicing the string\n",
            "Slicing the string\n",
            "['S', 'l', 'i', 'c', 'i', 'n', 'g', ' ', 't', 'h', 'e', ' ', 's', 't', 'r', 'i', 'n', 'g']\n",
            "S l i c i n g   t h e   s t r i n g "
          ],
          "name": "stdout"
        }
      ]
    },
    {
      "cell_type": "code",
      "metadata": {
        "id": "o7oIi9r2MmYZ",
        "colab_type": "code",
        "colab": {
          "base_uri": "https://localhost:8080/",
          "height": 145
        },
        "outputId": "08d4d72d-57d6-4889-bf4b-c37f19eafd21"
      },
      "source": [
        "fruits = [ 'mangoes', 'grapes', 'apples']\n",
        "print(fruits)\n",
        "del fruits[0]\n",
        "print(fruits)\n",
        "print(fruits[0])\n",
        "fruits.insert(0, \"mangoes\")\n",
        "print(fruits)\n",
        "\"apples\" in fruits\n",
        "print(max(fruits))\n",
        "print(min(fruits))\n",
        "print(sorted(fruits))"
      ],
      "execution_count": null,
      "outputs": [
        {
          "output_type": "stream",
          "text": [
            "['mangoes', 'grapes', 'apples']\n",
            "['grapes', 'apples']\n",
            "grapes\n",
            "['mangoes', 'grapes', 'apples']\n",
            "mangoes\n",
            "apples\n",
            "['apples', 'grapes', 'mangoes']\n"
          ],
          "name": "stdout"
        }
      ]
    },
    {
      "cell_type": "code",
      "metadata": {
        "id": "pWwYKpZhOjS3",
        "colab_type": "code",
        "colab": {
          "base_uri": "https://localhost:8080/",
          "height": 35
        },
        "outputId": "e3abb84d-6cd1-4d41-9204-dc7187e53cd4"
      },
      "source": [
        "presidents = ['Obama', 'Trump', 'Washington']\n",
        "p2 = presidents[:2]\n",
        "p2.remove('Trump')\n",
        "print(p2)"
      ],
      "execution_count": null,
      "outputs": [
        {
          "output_type": "stream",
          "text": [
            "['Obama']\n"
          ],
          "name": "stdout"
        }
      ]
    },
    {
      "cell_type": "code",
      "metadata": {
        "id": "12AfTAEsSPRs",
        "colab_type": "code",
        "colab": {
          "base_uri": "https://localhost:8080/",
          "height": 72
        },
        "outputId": "39b6d7e8-75f9-4e6f-df5e-6aff527e3311"
      },
      "source": [
        "Org = \"Talentsprint\"\n",
        "    \n",
        "print(Org.index('t'))\n",
        "print(Org.count(\"t\"))\n",
        "print(Org.find(\"z\"))"
      ],
      "execution_count": null,
      "outputs": [
        {
          "output_type": "stream",
          "text": [
            "5\n",
            "2\n",
            "-1\n"
          ],
          "name": "stdout"
        }
      ]
    },
    {
      "cell_type": "code",
      "metadata": {
        "id": "VMw4ojxBTm9e",
        "colab_type": "code",
        "colab": {
          "base_uri": "https://localhost:8080/",
          "height": 90
        },
        "outputId": "130fe094-2620-4819-fc20-6f9dc264f4f1"
      },
      "source": [
        "t = (1, 2, 3)\n",
        "print(t)\n",
        "print(type(t))\n",
        "tpl = (1, 2, [5, 7, 9, 17, 21, 123, 431], 5)\n",
        "print(tpl[2][3])\n",
        "print(type(tpl))"
      ],
      "execution_count": null,
      "outputs": [
        {
          "output_type": "stream",
          "text": [
            "(1, 2, 3)\n",
            "<class 'tuple'>\n",
            "17\n",
            "<class 'tuple'>\n"
          ],
          "name": "stdout"
        }
      ]
    },
    {
      "cell_type": "code",
      "metadata": {
        "id": "ShzDyfB7UH2d",
        "colab_type": "code",
        "colab": {
          "base_uri": "https://localhost:8080/",
          "height": 35
        },
        "outputId": "dd27d5b6-bead-454a-9eb8-a998517e9b30"
      },
      "source": [
        "contact_details = (\"Indira\", \"Talentsprint\", 501, 94567345)\n",
        "contact_details\n"
      ],
      "execution_count": null,
      "outputs": [
        {
          "output_type": "execute_result",
          "data": {
            "text/plain": [
              "('Indira', 'Talentsprint', 501, 94567345)"
            ]
          },
          "metadata": {
            "tags": []
          },
          "execution_count": 57
        }
      ]
    },
    {
      "cell_type": "code",
      "metadata": {
        "id": "9TaL5bX9Uj4o",
        "colab_type": "code",
        "colab": {
          "base_uri": "https://localhost:8080/",
          "height": 90
        },
        "outputId": "8242624a-6cf2-43a7-b459-7b81ab836ce8"
      },
      "source": [
        "s = \"Indira Priyadarshini, I said Python is fun\"\n",
        "S = s.split(\",\")\n",
        "print(S)\n",
        "sj = \",\".join(S)\n",
        "print(sj)\n",
        "vowels = \"AEIOUaeiou\"\n",
        "count = 0\n",
        "for ch in s:\n",
        "  if ch in vowels:\n",
        "    count += 1\n",
        "  \n",
        "print(count)\n",
        "'a' in s   \n"
      ],
      "execution_count": null,
      "outputs": [
        {
          "output_type": "stream",
          "text": [
            "['Indira Priyadarshini', ' I said Python is fun']\n",
            "Indira Priyadarshini, I said Python is fun\n",
            "14\n"
          ],
          "name": "stdout"
        },
        {
          "output_type": "execute_result",
          "data": {
            "text/plain": [
              "True"
            ]
          },
          "metadata": {
            "tags": []
          },
          "execution_count": 72
        }
      ]
    },
    {
      "cell_type": "code",
      "metadata": {
        "id": "_3IcEtVWU4p5",
        "colab_type": "code",
        "colab": {
          "base_uri": "https://localhost:8080/",
          "height": 183
        },
        "outputId": "06c9d539-d50d-491b-87bd-8779aaf9a7f3"
      },
      "source": [
        "d1 = dict()\n",
        "type(d1)\n",
        "courses = {}\n",
        "print(type(courses))\n",
        "courses = {'PCP':'C', 'PY4AIML': 'Python', 'OOPS' : 'Java'}\n",
        "student_count = {'PCP': 100, 'PY4AIML': 1000, 'OOPS': 500}\n",
        "print(courses.keys())\n",
        "print(courses.values())\n",
        "courses['OOPS'] = \"COJ\"\n",
        "courses[\"AIML\"] = \"MachineLearning\"\n",
        "print(courses[\"OOPS\"])\n",
        "print(courses)\n",
        "if 'OOPS' in courses:\n",
        "  print('Yes')\n",
        "student_count.update(courses)\n",
        "print(student_count)\n",
        "print(courses)"
      ],
      "execution_count": null,
      "outputs": [
        {
          "output_type": "stream",
          "text": [
            "<class 'dict'>\n",
            "dict_keys(['PCP', 'PY4AIML', 'OOPS'])\n",
            "dict_values(['C', 'Python', 'Java'])\n",
            "COJ\n",
            "{'PCP': 'C', 'PY4AIML': 'Python', 'OOPS': 'COJ', 'AIML': 'MachineLearning'}\n",
            "Yes\n",
            "{'PCP': 'C', 'PY4AIML': 'Python', 'OOPS': 'COJ', 'AIML': 'MachineLearning'}\n",
            "{'PCP': 'C', 'PY4AIML': 'Python', 'OOPS': 'COJ', 'AIML': 'MachineLearning'}\n"
          ],
          "name": "stdout"
        }
      ]
    },
    {
      "cell_type": "code",
      "metadata": {
        "id": "PpSB92YoYaZF",
        "colab_type": "code",
        "colab": {
          "base_uri": "https://localhost:8080/",
          "height": 126
        },
        "outputId": "e385f762-4f4a-42fe-ff82-0241e713b418"
      },
      "source": [
        "fruits = {\"apples\", \"grapes\", \"babana\", \"mangoes\"}\n",
        "for fruit in fruits:\n",
        "  print(fruit)\n",
        "\"mangoes\" in fruits\n",
        "fruits.add(\"berries\")\n",
        "print(fruits)\n",
        "fruits.pop()\n",
        "print(fruits)"
      ],
      "execution_count": null,
      "outputs": [
        {
          "output_type": "stream",
          "text": [
            "apples\n",
            "grapes\n",
            "babana\n",
            "mangoes\n",
            "{'apples', 'berries', 'grapes', 'babana', 'mangoes'}\n",
            "{'berries', 'grapes', 'babana', 'mangoes'}\n"
          ],
          "name": "stdout"
        }
      ]
    },
    {
      "cell_type": "code",
      "metadata": {
        "id": "M4PAFeNBbt9q",
        "colab_type": "code",
        "colab": {
          "base_uri": "https://localhost:8080/",
          "height": 35
        },
        "outputId": "79a793d2-2082-4559-c475-a8aabc36f997"
      },
      "source": [
        "LIMIT = 1000\n",
        "sum(set(range(3, LIMIT, 3)) | set(range(5, LIMIT, 5)))"
      ],
      "execution_count": null,
      "outputs": [
        {
          "output_type": "execute_result",
          "data": {
            "text/plain": [
              "233168"
            ]
          },
          "metadata": {
            "tags": []
          },
          "execution_count": 102
        }
      ]
    },
    {
      "cell_type": "code",
      "metadata": {
        "id": "eYVkOAJwdRsJ",
        "colab_type": "code",
        "colab": {}
      },
      "source": [
        "my_emailId = \"talasila.indira@talentsprint.com\""
      ],
      "execution_count": null,
      "outputs": []
    }
  ]
}