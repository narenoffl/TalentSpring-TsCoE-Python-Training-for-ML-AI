{
  "nbformat": 4,
  "nbformat_minor": 0,
  "metadata": {
    "colab": {
      "name": "Assignment1.ipynb",
      "provenance": [],
      "authorship_tag": "ABX9TyP1deIdo9p7hgCr3hoiMDI8",
      "include_colab_link": true
    },
    "kernelspec": {
      "name": "python3",
      "display_name": "Python 3"
    }
  },
  "cells": [
    {
      "cell_type": "markdown",
      "metadata": {
        "id": "view-in-github",
        "colab_type": "text"
      },
      "source": [
        "<a href=\"https://colab.research.google.com/github/narenoffl/TalentSpring-TsCoE-Python-Training-for-ML-AI/blob/master/Assignment1.ipynb\" target=\"_parent\"><img src=\"https://colab.research.google.com/assets/colab-badge.svg\" alt=\"Open In Colab\"/></a>"
      ]
    },
    {
      "cell_type": "code",
      "metadata": {
        "id": "COWMyL8kO0z0",
        "colab_type": "code",
        "colab": {}
      },
      "source": [
        ""
      ],
      "execution_count": null,
      "outputs": []
    },
    {
      "cell_type": "markdown",
      "metadata": {
        "id": "TfGujMkYO6O7",
        "colab_type": "text"
      },
      "source": [
        "Program 1: Function to determine Strong Number"
      ]
    },
    {
      "cell_type": "code",
      "metadata": {
        "id": "uyPv43N8PDdZ",
        "colab_type": "code",
        "colab": {
          "base_uri": "https://localhost:8080/",
          "height": 51
        },
        "outputId": "8c79f8da-9d91-42d1-ed2f-30adba531d76"
      },
      "source": [
        "def isStrongNum(num):\n",
        "  sum1 = 0\n",
        "  temp = num\n",
        "  while(num):\n",
        "    i = 1\n",
        "    f = 1\n",
        "    r = num % 10\n",
        "    while(i<=r):\n",
        "      f = f * i\n",
        "      i = i + 1\n",
        "    sum1 = sum1 + f\n",
        "    num = num // 10\n",
        "\n",
        "  if(sum1 == temp):\n",
        "     return True\n",
        "  else:\n",
        "   return False\n",
        "print(isStrongNum(145))  \n",
        "print(isStrongNum(123))"
      ],
      "execution_count": 63,
      "outputs": [
        {
          "output_type": "stream",
          "text": [
            "True\n",
            "False\n"
          ],
          "name": "stdout"
        }
      ]
    },
    {
      "cell_type": "markdown",
      "metadata": {
        "id": "J4ARwv0LekRP",
        "colab_type": "text"
      },
      "source": [
        "Program 2 : Function to determine Armstrong Number"
      ]
    },
    {
      "cell_type": "code",
      "metadata": {
        "id": "h1YiqwHNe8pI",
        "colab_type": "code",
        "colab": {
          "base_uri": "https://localhost:8080/",
          "height": 51
        },
        "outputId": "39fdd9ac-e10c-4b66-f343-6897fb59313c"
      },
      "source": [
        "def isArmstrongNumber(number):\n",
        "  sum2 = 0\n",
        "  tem = number\n",
        "  while(tem>0):\n",
        "    digits = tem % 10\n",
        "    sum2 = sum2 + (digits**3)\n",
        "    tem = tem // 10\n",
        "  \n",
        "  if(number == sum2):\n",
        "   return True\n",
        "  else:\n",
        "    return False \n",
        "print(isArmstrongNumber(371)) \n",
        "print(isArmstrongNumber(111)) "
      ],
      "execution_count": 64,
      "outputs": [
        {
          "output_type": "stream",
          "text": [
            "True\n",
            "False\n"
          ],
          "name": "stdout"
        }
      ]
    },
    {
      "cell_type": "markdown",
      "metadata": {
        "id": "oCDg8XiIkK0q",
        "colab_type": "text"
      },
      "source": [
        "Program 3 : Program to find Prime numbers"
      ]
    },
    {
      "cell_type": "code",
      "metadata": {
        "id": "JITj6mDnkKHy",
        "colab_type": "code",
        "colab": {
          "base_uri": "https://localhost:8080/",
          "height": 51
        },
        "outputId": "ee4c0512-6aba-460c-a29f-3e7b19451b33"
      },
      "source": [
        "def isPrime(n):\n",
        "  if(n==1):\n",
        "    return False\n",
        "  elif(n==2):\n",
        "    return True\n",
        "  else:\n",
        "    for x in range(2,n):\n",
        "      if(n % x == 0):\n",
        "        return False\n",
        "      return True\n",
        "print(isPrime(11)) \n",
        "print(isPrime(34))      \n",
        "\n"
      ],
      "execution_count": 66,
      "outputs": [
        {
          "output_type": "stream",
          "text": [
            "True\n",
            "False\n"
          ],
          "name": "stdout"
        }
      ]
    },
    {
      "cell_type": "markdown",
      "metadata": {
        "id": "tZCRayDKnP_U",
        "colab_type": "text"
      },
      "source": [
        "Program 4 : If we list all the natural numbers below 10 that are multiples of 3 or 5, we get\n",
        "3, 5, 6 and 9. The sum of these multiples is 23.\n",
        "Implement a function to find the sum of all the multiples of 3 or 5 below 1000"
      ]
    },
    {
      "cell_type": "code",
      "metadata": {
        "id": "8GlgB0GpnUg2",
        "colab_type": "code",
        "colab": {
          "base_uri": "https://localhost:8080/",
          "height": 34
        },
        "outputId": "d49296a8-d329-4404-93af-3d1df3fe060c"
      },
      "source": [
        "def multiples(no):\n",
        "  sum4 = 0\n",
        "  for i in range(0,no):\n",
        "    if(no % 3 == 0 and no % 5 == 0):\n",
        "      sum4 = sum4 + i\n",
        "  return sum4\n",
        " \n",
        "print(multiples(1000)) \n"
      ],
      "execution_count": 78,
      "outputs": [
        {
          "output_type": "stream",
          "text": [
            "0\n"
          ],
          "name": "stdout"
        }
      ]
    }
  ]
}