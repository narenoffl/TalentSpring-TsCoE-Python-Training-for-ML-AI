{
  "nbformat": 4,
  "nbformat_minor": 0,
  "metadata": {
    "colab": {
      "name": "Naren P 's Copy of Assignment 04 Numpy_Practice_Exercises.ipynb",
      "provenance": [],
      "private_outputs": true,
      "collapsed_sections": [],
      "include_colab_link": true
    },
    "kernelspec": {
      "name": "python3",
      "display_name": "Python 3"
    }
  },
  "cells": [
    {
      "cell_type": "markdown",
      "metadata": {
        "id": "view-in-github",
        "colab_type": "text"
      },
      "source": [
        "<a href=\"https://colab.research.google.com/github/narenoffl/TalentSpring-TsCoE-Python-Training-for-ML-AI/blob/master/Naren_P_'s_Copy_of_Assignment_04_Numpy_Practice_Exercises.ipynb\" target=\"_parent\"><img src=\"https://colab.research.google.com/assets/colab-badge.svg\" alt=\"Open In Colab\"/></a>"
      ]
    },
    {
      "cell_type": "markdown",
      "metadata": {
        "id": "v02A3rgEQjwF",
        "colab_type": "text"
      },
      "source": [
        "## Numpy"
      ]
    },
    {
      "cell_type": "markdown",
      "metadata": {
        "id": "b9SVflglRDWk",
        "colab_type": "text"
      },
      "source": [
        "\n",
        "### Exercise 01: Form an array using np.arange which contains all even numbers. 10 to 30\n"
      ]
    },
    {
      "cell_type": "code",
      "metadata": {
        "id": "l32CNHMX6bH5",
        "colab_type": "code",
        "colab": {}
      },
      "source": [
        ""
      ],
      "execution_count": null,
      "outputs": []
    },
    {
      "cell_type": "code",
      "metadata": {
        "id": "w-lZC4vRPlbx",
        "colab_type": "code",
        "colab": {}
      },
      "source": [
        "import numpy as np\n",
        "a=np.array(list(filter(lambda x:x%2==0,np.arange(10,31))))\n",
        "print(a)"
      ],
      "execution_count": null,
      "outputs": []
    },
    {
      "cell_type": "markdown",
      "metadata": {
        "id": "9fMPdoYO_6TX",
        "colab_type": "text"
      },
      "source": [
        "### Exercise 02: Create an array of evenly spaced numbers upto 24 as one dimentional and reshape it to (2,4,3)"
      ]
    },
    {
      "cell_type": "code",
      "metadata": {
        "id": "dXSX1GNSAFiN",
        "colab_type": "code",
        "colab": {}
      },
      "source": [
        "#your code here\n",
        "\n",
        "ar2 = np.arange(1,25)\n",
        "print(ar2)\n",
        "\n",
        "ar2 = ar2.reshape(2,4,3)\n",
        "print(ar2)"
      ],
      "execution_count": null,
      "outputs": []
    },
    {
      "cell_type": "markdown",
      "metadata": {
        "id": "TNt1VdKj7r73",
        "colab_type": "text"
      },
      "source": [
        "### Exercise 03: Get [1, 4, 5] from [[1, 2], [3, 4], [5, 6]] using indexing"
      ]
    },
    {
      "cell_type": "code",
      "metadata": {
        "id": "OaimSeaQ8UaZ",
        "colab_type": "code",
        "colab": {}
      },
      "source": [
        "arr3 = np.array([[1,2],[3,4],[5,6]])\n",
        "arr31 = np.array([arr3[0,0], arr3[1,1], arr3[2,0]])\n",
        "print(arr31)"
      ],
      "execution_count": null,
      "outputs": []
    },
    {
      "cell_type": "markdown",
      "metadata": {
        "id": "PFbNeshi8GZD",
        "colab_type": "text"
      },
      "source": [
        "### Exercise 04: From the given array [[ 0, 1, 2],[ 3, 4, 5],[ 6, 7, 8],[ 9, 10, 11]] form an array containing elements greater than 5"
      ]
    },
    {
      "cell_type": "code",
      "metadata": {
        "id": "OjN9QYQh8YHR",
        "colab_type": "code",
        "colab": {}
      },
      "source": [
        "no=np.array( [[0,1,2],[3,4,5],[6,7,8],[9,10,11]])\n",
        "no=no.ravel()\n",
        "np.array(list(filter(lambda x:x>5,no)))"
      ],
      "execution_count": null,
      "outputs": []
    },
    {
      "cell_type": "markdown",
      "metadata": {
        "id": "xSRBJNdV8ipU",
        "colab_type": "text"
      },
      "source": [
        "### Exercise 05: Add given two arrays [[ 0.0, 0.0, 0.0],[10.0,10.0,10.0], [20.0,20.0,20.0],[30.0,30.0,30.0]] and [1.0,2.0,3.0]"
      ]
    },
    {
      "cell_type": "code",
      "metadata": {
        "id": "7FE8SmE68p-g",
        "colab_type": "code",
        "colab": {}
      },
      "source": [
        "#your code here\n",
        "\n",
        "ar51 = np.array([[ 0.0, 0.0, 0.0],[10.0,10.0,10.0], [20.0,20.0,20.0],[30.0,30.0,30.0]])\n",
        "ar52 = np.array([1.0,2.0,3.0])\n",
        "print(ar51 + ar52)"
      ],
      "execution_count": null,
      "outputs": []
    },
    {
      "cell_type": "markdown",
      "metadata": {
        "id": "KKd-1aFu8r-q",
        "colab_type": "text"
      },
      "source": [
        "### Exercise 06: Multiplication of two arrays [1, 2, 3, 4] [10, 20, 30, 40]"
      ]
    },
    {
      "cell_type": "code",
      "metadata": {
        "id": "J99PVyJp83Ov",
        "colab_type": "code",
        "colab": {}
      },
      "source": [
        "#your code here\n",
        "np.multiply(np.array([1,2,3,4]),np.array([10,20,30,40]))"
      ],
      "execution_count": null,
      "outputs": []
    },
    {
      "cell_type": "markdown",
      "metadata": {
        "id": "Y5ymkBwlcTdv",
        "colab_type": "text"
      },
      "source": [
        "### Exercise 07: Matrix multiplication for 2-D array"
      ]
    },
    {
      "cell_type": "code",
      "metadata": {
        "id": "EDEXVZnPcfNX",
        "colab_type": "code",
        "colab": {}
      },
      "source": [
        "a = np.array([[1, 0],\n",
        "             [0, 1]])\n",
        "\n",
        "b = np.array([[4, 1],\n",
        "              [2, 2]])\n",
        "\n",
        "\n",
        "print(a@b)"
      ],
      "execution_count": null,
      "outputs": []
    },
    {
      "cell_type": "markdown",
      "metadata": {
        "id": "uGPHkwjo85JM",
        "colab_type": "text"
      },
      "source": [
        "### Exercise 08: Transpose the given array [[0, 1, 2, 3] [4, 5, 6, 7] [8, 9, 10, 11]]"
      ]
    },
    {
      "cell_type": "code",
      "metadata": {
        "id": "rY3h_q3t9Fzk",
        "colab_type": "code",
        "colab": {}
      },
      "source": [
        "#your code here\n",
        "\n",
        "before_tr = np.array([[0, 1, 2, 3] ,[4, 5, 6, 7] ,[8, 9, 10, 11]])\n",
        "print(before_tr.transpose())"
      ],
      "execution_count": null,
      "outputs": []
    },
    {
      "cell_type": "markdown",
      "metadata": {
        "id": "jaTtufJr9Psc",
        "colab_type": "text"
      },
      "source": [
        "### Exercise 09: Concatenate [[1, 2], [3, 4]] and [[5, 6], [7, 8]] using numpy in axis 1"
      ]
    },
    {
      "cell_type": "code",
      "metadata": {
        "id": "BHk5Qzqe9VZZ",
        "colab_type": "code",
        "colab": {}
      },
      "source": [
        "#your code here\n",
        "\n",
        "arr_91 = np.array([[1, 2], [3, 4]])\n",
        "arr_92 = np.array([[5, 6], [7, 8]])\n",
        "arr_soln = np.concatenate((arr_91,arr_92),axis = 1)\n",
        "print(arr_soln)"
      ],
      "execution_count": null,
      "outputs": []
    },
    {
      "cell_type": "markdown",
      "metadata": {
        "id": "02HOmDBXzPeg",
        "colab_type": "text"
      },
      "source": [
        "### Exercise 10: Given a Multidimensional array find the following,\n",
        "\n",
        "\n",
        "1.   get second and third coloum from the given Multidimensional array\n",
        "2.   get second and third row from the given Multidimensional array\n",
        "3.   and reverse the given Multidimensional array\n"
      ]
    },
    {
      "cell_type": "code",
      "metadata": {
        "id": "XruBP0P4zehS",
        "colab_type": "code",
        "colab": {}
      },
      "source": [
        "import numpy as np\n",
        "array2D = np.array([[a, b, c], [d, e, f], [g, h, i]])\n",
        "#Your code here"
      ],
      "execution_count": null,
      "outputs": []
    },
    {
      "cell_type": "markdown",
      "metadata": {
        "id": "yEp-gRtO3zOa",
        "colab_type": "text"
      },
      "source": [
        "### Exercise 11: Given a Multidimensional array find the following,\n",
        "\n",
        "\n",
        "1.   What is the average value of the second column \n",
        "2.   Calculate the Mean of the given Multidimensional array\n",
        "\n"
      ]
    },
    {
      "cell_type": "code",
      "metadata": {
        "id": "sPuOB9XpyKKq",
        "colab_type": "code",
        "colab": {}
      },
      "source": [
        "import numpy as np\n",
        "array5D = np.array([[174677, 343356, 301717, 224120, 401101],\n",
        "       [140473, 254634, 112262,  25063, 108262],\n",
        "       [375059, 406983, 208947, 115641, 296685],\n",
        "       [444899, 129585, 171318, 313094, 425041],\n",
        "       [476442,  35455, 191553, 384154,  29917]])\n",
        "#Your code here\n",
        "print(np.average(array5D[:,2]))\n",
        "print(np.mean(array5D))\n"
      ],
      "execution_count": null,
      "outputs": []
    },
    {
      "cell_type": "markdown",
      "metadata": {
        "id": "_Q86aJEsXjkQ",
        "colab_type": "text"
      },
      "source": [
        "### Exercise 12: For the given array, get the slice of the first row and display them."
      ]
    },
    {
      "cell_type": "code",
      "metadata": {
        "id": "EhFU_uj5Xic7",
        "colab_type": "code",
        "colab": {}
      },
      "source": [
        "array = np.array([[[22, 23, 24], [25, 26, 27], [28, 29, 30]],\n",
        "               [[31, 32, 33], [34, 35, 36], [37, 38, 39]],\n",
        "               [[40, 41, 42], [43, 44, 45], [46, 47, 48]]])\n",
        "\n",
        "##your code here"
      ],
      "execution_count": null,
      "outputs": []
    },
    {
      "cell_type": "markdown",
      "metadata": {
        "id": "5SxjQaZEM3W3",
        "colab_type": "text"
      },
      "source": [
        "### Exercise 13: Create a 10x10 array with random values and find minimum number and maximum number along axis 1"
      ]
    },
    {
      "cell_type": "code",
      "metadata": {
        "id": "UuACbe2jNb1b",
        "colab_type": "code",
        "colab": {}
      },
      "source": [
        "## your code here"
      ],
      "execution_count": null,
      "outputs": []
    },
    {
      "cell_type": "markdown",
      "metadata": {
        "id": "ctj8hr3XWwBw",
        "colab_type": "text"
      },
      "source": [
        "### Exercise 14: Create an array of the first 20 odd integers"
      ]
    },
    {
      "cell_type": "code",
      "metadata": {
        "id": "rbvkBuRdV558",
        "colab_type": "code",
        "colab": {}
      },
      "source": [
        "### your code here\n",
        "\n",
        "odd = np.arange(1,40,2)\n",
        "print(odd)"
      ],
      "execution_count": null,
      "outputs": []
    },
    {
      "cell_type": "markdown",
      "metadata": {
        "id": "mOLKxH_SW3Fg",
        "colab_type": "text"
      },
      "source": [
        "### Exercise 15: Create a 5x5 matrix with values 1,2,3,4 just below the diagonal"
      ]
    },
    {
      "cell_type": "code",
      "metadata": {
        "id": "JZ87PPEhW9OF",
        "colab_type": "code",
        "colab": {}
      },
      "source": [
        "### your code here"
      ],
      "execution_count": null,
      "outputs": []
    },
    {
      "cell_type": "markdown",
      "metadata": {
        "id": "kph14lD5XBcm",
        "colab_type": "text"
      },
      "source": [
        "### Exercise 16: 2x+3y=13 3x+y=9 find the value of x and y."
      ]
    },
    {
      "cell_type": "code",
      "metadata": {
        "id": "ZnQk4qTuXEtU",
        "colab_type": "code",
        "colab": {}
      },
      "source": [
        "### your code here\n",
        "\n",
        "coeff_ar = np.array([[2,3],[3,1]])\n",
        "const_ar = np.array([[13],[9]])\n",
        "sln_ar = np.linalg.solve(coeff_ar,const_ar)\n",
        "print(\"x = \",int(sln_ar[0,0]))\n",
        "print(\"y = \",int(sln_ar[1,0]))"
      ],
      "execution_count": null,
      "outputs": []
    },
    {
      "cell_type": "markdown",
      "metadata": {
        "id": "4mY7BD0PXH5y",
        "colab_type": "text"
      },
      "source": [
        "### Exercise 17: Compute $e^x$, element-wise for a sample array"
      ]
    },
    {
      "cell_type": "code",
      "metadata": {
        "id": "5qCVqKKrXM8j",
        "colab_type": "code",
        "colab": {}
      },
      "source": [
        "### your code here\n",
        "\n",
        "import math\n",
        "arr17 = np.arange(1,11)\n",
        "for i in range(10):\n",
        "  arr17[i] = math.pow(math.e , arr17[i])\n",
        "print(arr17)  \n"
      ],
      "execution_count": null,
      "outputs": []
    }
  ]
}