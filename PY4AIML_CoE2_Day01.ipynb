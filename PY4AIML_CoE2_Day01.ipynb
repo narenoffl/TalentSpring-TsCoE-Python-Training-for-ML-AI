{
  "nbformat": 4,
  "nbformat_minor": 0,
  "metadata": {
    "colab": {
      "name": "PY4AIML_CoE2_Day01.ipynb",
      "provenance": [],
      "include_colab_link": true
    },
    "kernelspec": {
      "name": "python3",
      "display_name": "Python 3"
    }
  },
  "cells": [
    {
      "cell_type": "markdown",
      "metadata": {
        "id": "view-in-github",
        "colab_type": "text"
      },
      "source": [
        "<a href=\"https://colab.research.google.com/github/narenoffl/TalentSpring-TsCoE-Python-Training-for-ML-AI/blob/master/PY4AIML_CoE2_Day01.ipynb\" target=\"_parent\"><img src=\"https://colab.research.google.com/assets/colab-badge.svg\" alt=\"Open In Colab\"/></a>"
      ]
    },
    {
      "cell_type": "markdown",
      "metadata": {
        "id": "nrNRN3Hx18Lz",
        "colab_type": "text"
      },
      "source": [
        "This is the first session of PY4AIML"
      ]
    },
    {
      "cell_type": "code",
      "metadata": {
        "id": "b4muLA8c1WFq",
        "colab_type": "code",
        "colab": {
          "base_uri": "https://localhost:8080/",
          "height": 34
        },
        "outputId": "bdfbede1-a783-4ae2-e4bb-00c2a5f4be5d"
      },
      "source": [
        "!python --version"
      ],
      "execution_count": null,
      "outputs": [
        {
          "output_type": "stream",
          "text": [
            "Python 3.6.9\n"
          ],
          "name": "stdout"
        }
      ]
    },
    {
      "cell_type": "markdown",
      "metadata": {
        "id": "DTxQ6BTi31js",
        "colab_type": "text"
      },
      "source": [
        "This is my first program in session 01"
      ]
    },
    {
      "cell_type": "code",
      "metadata": {
        "id": "Z6G8poKD37Yt",
        "colab_type": "code",
        "colab": {
          "base_uri": "https://localhost:8080/",
          "height": 34
        },
        "outputId": "285b9d2b-c2d3-4388-947e-73140bbc7534"
      },
      "source": [
        "print(\"My First Program in Python\")"
      ],
      "execution_count": null,
      "outputs": [
        {
          "output_type": "stream",
          "text": [
            "My First Program in Python\n"
          ],
          "name": "stdout"
        }
      ]
    },
    {
      "cell_type": "markdown",
      "metadata": {
        "id": "SIv0u1Ja4PA6",
        "colab_type": "text"
      },
      "source": [
        "**Building blocks of Python Program**\n",
        "* Functions\n",
        "* Variables\n",
        "* Expressions\n",
        "* Statements\n",
        "* Block\n",
        "* Comments"
      ]
    },
    {
      "cell_type": "code",
      "metadata": {
        "id": "VB6TiOAg3bkX",
        "colab_type": "code",
        "colab": {
          "base_uri": "https://localhost:8080/",
          "height": 85
        },
        "outputId": "51974ae5-6583-4d80-90db-e9c20cd3e3c8"
      },
      "source": [
        "10\n",
        "print(type('Indira'))\n",
        "print(\"I'am Indira\")\n",
        "print('\"hello World\"')\n",
        "print(type([1, 2, \" Indira\"]))"
      ],
      "execution_count": null,
      "outputs": [
        {
          "output_type": "stream",
          "text": [
            "<class 'str'>\n",
            "I'am Indira\n",
            "\"hello World\"\n",
            "<class 'list'>\n"
          ],
          "name": "stdout"
        }
      ]
    },
    {
      "cell_type": "code",
      "metadata": {
        "id": "L8nE_Fxr4t6X",
        "colab_type": "code",
        "colab": {
          "base_uri": "https://localhost:8080/",
          "height": 34
        },
        "outputId": "cff7bb8d-fbbf-4575-940e-35e4917f2c74"
      },
      "source": [
        "num = 5\n",
        "print(type(num))"
      ],
      "execution_count": null,
      "outputs": [
        {
          "output_type": "stream",
          "text": [
            "<class 'int'>\n"
          ],
          "name": "stdout"
        }
      ]
    },
    {
      "cell_type": "code",
      "metadata": {
        "id": "yLoCSEBj6vDj",
        "colab_type": "code",
        "colab": {
          "base_uri": "https://localhost:8080/",
          "height": 34
        },
        "outputId": "2011204b-9571-47d9-ce33-617a04d9d0be"
      },
      "source": [
        "num = 5\n",
        "num1 = 5.25\n",
        "name = \"Indira\"\n",
        "org = 'TalentSprint'\n",
        "marks = [1, 5.2, \"Python\"]\n",
        "tup = (1, 5.2, 'PY4AIML')\n",
        "a = None\n",
        "Expression = True\n",
        "print(type(Expression))"
      ],
      "execution_count": null,
      "outputs": [
        {
          "output_type": "stream",
          "text": [
            "<class 'bool'>\n"
          ],
          "name": "stdout"
        }
      ]
    },
    {
      "cell_type": "code",
      "metadata": {
        "id": "Txv8VNt77Boe",
        "colab_type": "code",
        "colab": {
          "base_uri": "https://localhost:8080/",
          "height": 34
        },
        "outputId": "fce7462b-974a-451d-f0f8-c649b12ec9da"
      },
      "source": [
        "NUMBER = 10\n",
        "print(NUMBER)"
      ],
      "execution_count": null,
      "outputs": [
        {
          "output_type": "stream",
          "text": [
            "10\n"
          ],
          "name": "stdout"
        }
      ]
    },
    {
      "cell_type": "code",
      "metadata": {
        "id": "7laHpCg17w5K",
        "colab_type": "code",
        "colab": {
          "base_uri": "https://localhost:8080/",
          "height": 34
        },
        "outputId": "7b72dcb3-1deb-4dec-d417-d5c669e5a081"
      },
      "source": [
        "NUM = 10\n",
        "NUM1 = 5.25\n",
        "add = NUM + NUM1\n",
        "print(add)"
      ],
      "execution_count": null,
      "outputs": [
        {
          "output_type": "stream",
          "text": [
            "15.25\n"
          ],
          "name": "stdout"
        }
      ]
    },
    {
      "cell_type": "code",
      "metadata": {
        "id": "p0hyBB1N9KxA",
        "colab_type": "code",
        "colab": {
          "base_uri": "https://localhost:8080/",
          "height": 136
        },
        "outputId": "0dcb2a3e-4461-42b8-9820-e322339ae792"
      },
      "source": [
        "add = num + num1\n",
        "print(add)\n",
        "sub = num1 - num\n",
        "mul = num * num1\n",
        "div = num1 / num\n",
        "rem = 10 % 5\n",
        "power = 2 ** 3\n",
        "print(power)\n",
        "print(rem)\n",
        "print(rem)\n",
        "print(sub)\n",
        "print(mul)\n",
        "print(div)"
      ],
      "execution_count": null,
      "outputs": [
        {
          "output_type": "stream",
          "text": [
            "10.25\n",
            "8\n",
            "0\n",
            "0\n",
            "0.25\n",
            "26.25\n",
            "1.05\n"
          ],
          "name": "stdout"
        }
      ]
    },
    {
      "cell_type": "code",
      "metadata": {
        "id": "MlfTm7zD9UE_",
        "colab_type": "code",
        "colab": {
          "base_uri": "https://localhost:8080/",
          "height": 34
        },
        "outputId": "b2bce00c-22e9-4aa0-ca14-f121471881de"
      },
      "source": [
        "int_div = 5.25 // 5\n",
        "print(int_div)"
      ],
      "execution_count": null,
      "outputs": [
        {
          "output_type": "stream",
          "text": [
            "1.0\n"
          ],
          "name": "stdout"
        }
      ]
    },
    {
      "cell_type": "code",
      "metadata": {
        "id": "RGFZGTVe9yT1",
        "colab_type": "code",
        "colab": {
          "base_uri": "https://localhost:8080/",
          "height": 34
        },
        "outputId": "8cc77afa-95c7-4640-9658-2e28d125be81"
      },
      "source": [
        "print(10 == 0)"
      ],
      "execution_count": null,
      "outputs": [
        {
          "output_type": "stream",
          "text": [
            "False\n"
          ],
          "name": "stdout"
        }
      ]
    },
    {
      "cell_type": "code",
      "metadata": {
        "id": "jF5ZbQTe-DLA",
        "colab_type": "code",
        "colab": {
          "base_uri": "https://localhost:8080/",
          "height": 34
        },
        "outputId": "079e08e5-df51-40b5-dc8c-288bf37b7b9e"
      },
      "source": [
        "print(4 > 0 and 10 == 0)"
      ],
      "execution_count": null,
      "outputs": [
        {
          "output_type": "stream",
          "text": [
            "False\n"
          ],
          "name": "stdout"
        }
      ]
    },
    {
      "cell_type": "code",
      "metadata": {
        "id": "AaHiEShf-LBS",
        "colab_type": "code",
        "colab": {
          "base_uri": "https://localhost:8080/",
          "height": 34
        },
        "outputId": "a7d0de18-8d82-47d1-a1b2-0e438127b432"
      },
      "source": [
        "num = 0\n",
        "if num > 0:    # if True: --> if block statements\n",
        "  print(\"hey positive!\")\n",
        "elif num == 0:\n",
        "  print(\"NUmber is Zero\")\n",
        "else:\n",
        "  print(\"it's a negative\")"
      ],
      "execution_count": null,
      "outputs": [
        {
          "output_type": "stream",
          "text": [
            "NUmber is Zero\n"
          ],
          "name": "stdout"
        }
      ]
    },
    {
      "cell_type": "code",
      "metadata": {
        "id": "a1lXU-rO-epc",
        "colab_type": "code",
        "colab": {
          "base_uri": "https://localhost:8080/",
          "height": 34
        },
        "outputId": "8e6869a5-d8a5-439d-f234-f20f890b1797"
      },
      "source": [
        "marks  =  75\n",
        "if marks >= 80:\n",
        "  print(\" Grade  A\")\n",
        "elif marks >=  60:\n",
        "  print( \" Grade  B\" )\n",
        "elif marks >= 40:\n",
        "  print( \" Grade  C\" )\n",
        "else:\n",
        "  print( \" F a i l e d \" )"
      ],
      "execution_count": null,
      "outputs": [
        {
          "output_type": "stream",
          "text": [
            " Grade  B\n"
          ],
          "name": "stdout"
        }
      ]
    },
    {
      "cell_type": "code",
      "metadata": {
        "id": "ijWYjhNFAuIB",
        "colab_type": "code",
        "colab": {
          "base_uri": "https://localhost:8080/",
          "height": 102
        },
        "outputId": "c23054a7-5916-400c-8da9-4d77181d876a"
      },
      "source": [
        "num = 1\n",
        "print(num)\n",
        "num = num + 1 # num += 1 == num = num + 1\n",
        "print(num)\n",
        "num = num + 1\n",
        "print(num)\n",
        "num = num + 1\n",
        "print(num)\n",
        "num = num + 1\n",
        "print(num)\n",
        "num = num + 1"
      ],
      "execution_count": null,
      "outputs": [
        {
          "output_type": "stream",
          "text": [
            "1\n",
            "2\n",
            "3\n",
            "4\n",
            "5\n"
          ],
          "name": "stdout"
        }
      ]
    },
    {
      "cell_type": "code",
      "metadata": {
        "id": "whg2UaiGAziR",
        "colab_type": "code",
        "colab": {
          "base_uri": "https://localhost:8080/",
          "height": 102
        },
        "outputId": "8e849b80-ecb4-412b-9b50-700dd4b40acb"
      },
      "source": [
        "num = 1\n",
        "while num < 6:\n",
        "  print(num)\n",
        "  num += 1"
      ],
      "execution_count": null,
      "outputs": [
        {
          "output_type": "stream",
          "text": [
            "1\n",
            "2\n",
            "3\n",
            "4\n",
            "5\n"
          ],
          "name": "stdout"
        }
      ]
    },
    {
      "cell_type": "code",
      "metadata": {
        "id": "IlleFFEpBeub",
        "colab_type": "code",
        "colab": {
          "base_uri": "https://localhost:8080/",
          "height": 51
        },
        "outputId": "2af0ce75-78a0-4ead-c648-e1876f567814"
      },
      "source": [
        "Name = \"Indira Priyadarshini \"\n",
        "Family_Name = \"Talasila\"\n",
        "my_name = Name + Family_Name\n",
        "print(my_name)\n",
        "print(Name[0])"
      ],
      "execution_count": null,
      "outputs": [
        {
          "output_type": "stream",
          "text": [
            "Indira Priyadarshini Talasila\n",
            "I\n"
          ],
          "name": "stdout"
        }
      ]
    },
    {
      "cell_type": "code",
      "metadata": {
        "id": "xeukGQ66CK_L",
        "colab_type": "code",
        "colab": {
          "base_uri": "https://localhost:8080/",
          "height": 34
        },
        "outputId": "5c1a7885-fd36-415b-b362-c19182044cd7"
      },
      "source": [
        "for ch in my_name:\n",
        "  print(ch, end = \" \")"
      ],
      "execution_count": null,
      "outputs": [
        {
          "output_type": "stream",
          "text": [
            "I n d i r a   P r i y a d a r s h i n i   T a l a s i l a "
          ],
          "name": "stdout"
        }
      ]
    },
    {
      "cell_type": "code",
      "metadata": {
        "id": "dZawE3WtD04m",
        "colab_type": "code",
        "colab": {
          "base_uri": "https://localhost:8080/",
          "height": 102
        },
        "outputId": "ac5b1983-9b80-48fa-f4ff-de395f834099"
      },
      "source": [
        "def is_even(num):\n",
        "  return num % 2 == 0\n",
        "\n",
        "\n",
        "def cube(num):\n",
        "  return num ** 3\n",
        "\n",
        "num = 1\n",
        "while num < 11:\n",
        "  if is_even(num):\n",
        "    print(cube(num))\n",
        "  num += 1\n",
        "\n",
        "\n"
      ],
      "execution_count": null,
      "outputs": [
        {
          "output_type": "stream",
          "text": [
            "8\n",
            "64\n",
            "216\n",
            "512\n",
            "1000\n"
          ],
          "name": "stdout"
        }
      ]
    },
    {
      "cell_type": "code",
      "metadata": {
        "id": "4ncJMXSFFBoh",
        "colab_type": "code",
        "colab": {
          "base_uri": "https://localhost:8080/",
          "height": 34
        },
        "outputId": "ea03b133-6233-4214-85a4-42229ad5d60e"
      },
      "source": [
        "def ping(i):\n",
        "  if i > 0:\n",
        "    return pong(i - 1)\n",
        "  return \"0\"\n",
        "\n",
        "def pong(i):\n",
        "  if i > 0:\n",
        "    return ping(i - 1)\n",
        "  return \"1\"\n",
        "\n",
        "print(ping(29))"
      ],
      "execution_count": null,
      "outputs": [
        {
          "output_type": "stream",
          "text": [
            "1\n"
          ],
          "name": "stdout"
        }
      ]
    },
    {
      "cell_type": "code",
      "metadata": {
        "id": "LCPVIaJgJTLR",
        "colab_type": "code",
        "colab": {}
      },
      "source": [
        ""
      ],
      "execution_count": null,
      "outputs": []
    }
  ]
}